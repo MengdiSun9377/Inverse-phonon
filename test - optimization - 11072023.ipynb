{
 "cells": [
  {
   "cell_type": "code",
   "execution_count": 1,
   "metadata": {},
   "outputs": [],
   "source": [
    "# use packages\n",
    "using MKL\n",
    "# using Plots\n",
    "using Gridap, GridapGmsh, Gridap.Geometry, Gridap.Fields\n",
    "\n",
    "#Pardiso solver is much faster\n",
    "# using GridapPardiso\n",
    "# using SparseMatricesCSR\n",
    "\n",
    "# For image generation.\n",
    "#using Images, ImageView,ImageFiltering\n",
    "using ImageFiltering\n",
    "# using BenchmarkTools"
   ]
  },
  {
   "cell_type": "code",
   "execution_count": 2,
   "metadata": {},
   "outputs": [
    {
     "data": {
      "text/plain": [
       "5.0e-8"
      ]
     },
     "metadata": {},
     "output_type": "display_data"
    }
   ],
   "source": [
    "# constant\n",
    "# Material property\n",
    "function lame_parameters(E,ν)\n",
    "    λ = (E*ν)/((1+ν)*(1-2*ν))\n",
    "    μ = E/(2*(1+ν))\n",
    "    (λ, μ)\n",
    "end\n",
    "  \n",
    "#Silicon \n",
    "const E_Si = 160.0e9\n",
    "const ν_Si = 0.27\n",
    "const (λ_Si, μ_Si) = lame_parameters(E_Si, ν_Si) \n",
    "const rho_Si = 2329.0     # kg/m^3\n",
    "σ_Si(ε) = λ_Si*tr(ε)*one(ε) + 2*μ_Si*ε\n",
    "\n",
    "# #Vacuum \n",
    "# const E_va = 0.0\n",
    "# const ν_va = 0.0\n",
    "# const (λ_va, μ_va) = lame_parameters(E_va, ν_va) \n",
    "# const rho_va = 0.0    # kg/m^3\n",
    "# σ_va(ε) = λ_va*tr(ε)*one(ε) + 2*μ_va*ε\n",
    "  \n",
    "#PDMS\n",
    "const E_PDMS = 1.0e6\n",
    "const ν_PDMS = 0.45\n",
    "const (λ_PDMS, μ_PDMS) = lame_parameters(E_PDMS, ν_PDMS)\n",
    "const rho_PDMS = 790.0  #kg/m3\n",
    "σ_PDMS(ε) = λ_PDMS*tr(ε)*one(ε) + 2*μ_PDMS*ε\n",
    "\n",
    "# frequency\n",
    "freq = 1000e6\n",
    "omega = 2*π*  (freq)\n",
    "δ=1e-6\n",
    "L0 = 6 * δ # Length of device\n",
    "H0 = 4 * δ # Width of device\n",
    "T0 = 0.2 * δ # Height of device\n",
    "d_pmlx = 1 * δ  # Thickness of the PML\n",
    "d_pmly = 0.5 * δ  # Thickness of the PML\n",
    "d_pmlz = 0.05 * δ  # Thickness of the PML\n"
   ]
  },
  {
   "cell_type": "code",
   "execution_count": 3,
   "metadata": {},
   "outputs": [
    {
     "data": {
      "text/plain": [
       "abs (generic function with 20 methods)"
      ]
     },
     "metadata": {},
     "output_type": "display_data"
    }
   ],
   "source": [
    "# user-defined functions\n",
    "import Base:real\n",
    "function real(a :: VectorValue{D, T}) where {D, T<:Number}\n",
    "    return VectorValue([real(a[i]) for i in 1:D])\n",
    "end\n",
    "\n",
    "import Base:imag\n",
    "function imag(a :: VectorValue{D, T}) where {D<:Int, T<:Number}\n",
    "    return VectorValue([imag(a[i]) for i in 1:D])\n",
    "end\n",
    "\n",
    "import Base:abs\n",
    "function abs(a :: VectorValue{D, T}) where {D<:Int, T<:Number}\n",
    "    return VectorValue([abs(a[i]) for i in 1:D])\n",
    "end\n",
    "\n"
   ]
  },
  {
   "cell_type": "code",
   "execution_count": 4,
   "metadata": {},
   "outputs": [
    {
     "name": "stdout",
     "output_type": "stream",
     "text": [
      "Info    : Reading 'E:/Work/Postdoc/Quantumphononics/Test/cantilever_small_20231103.msh'...\n",
      "Info    : 99 entities\n",
      "Info    : 2490 nodes\n",
      "Info    : 9390 elements\n",
      "Info    : Done reading 'E:/Work/Postdoc/Quantumphononics/Test/cantilever_small_20231103.msh'\n"
     ]
    },
    {
     "data": {
      "text/plain": [
       "4-element Vector{Vector{String}}:\n",
       " [\"cant_model_0.vtu\"]\n",
       " [\"cant_model_1.vtu\"]\n",
       " [\"cant_model_2.vtu\"]\n",
       " [\"cant_model_3.vtu\"]"
      ]
     },
     "metadata": {},
     "output_type": "display_data"
    }
   ],
   "source": [
    "# load meshes and view the models\n",
    "model = GmshDiscreteModel(\"E:/Work/Postdoc/Quantumphononics/Test/cantilever_small_20231103.msh\")\n",
    "writevtk(model,\"cant_model\") # write the model to vtk\n"
   ]
  },
  {
   "cell_type": "code",
   "execution_count": 5,
   "metadata": {},
   "outputs": [
    {
     "data": {
      "text/plain": [
       "UnconstrainedFESpace()"
      ]
     },
     "metadata": {},
     "output_type": "display_data"
    }
   ],
   "source": [
    "# Define ref/test space\n",
    "order = 2 # 2nd order Lagrange interpolation\n",
    "\n",
    "reffe = ReferenceFE(lagrangian,VectorValue{3,ComplexF64},order) # Finite element basis: 2nd order lagrange interpolation of the funciton space\n",
    "\n",
    "#Linbo: changed to ComplexF64  for have complex number in displacement representing the phase\n",
    "\n",
    "# V0 = TestFESpace(model,reffe;\n",
    "#   conformity=:H1,\n",
    "#   dirichlet_tags=[\"clamp\",],\n",
    "#   dirichlet_masks=[(true,true,true),])\n",
    "V = TestFESpace(model,reffe;\n",
    "  conformity=:H1,)\n",
    "# g1(x) = VectorValue(0, 0.0, 0.0001) # Dirichlet boundary condition: the third component of the displacement vector is 0.0001\n",
    "# g1(x) = VectorValue(0, 0.0, 0.0) # Dirichlet boundary condition: the third component of the displacement vector is 0.0001\n",
    "# U = TrialFESpace(V0,[g1]) # solution function space: Dirichlet: u=g1\n",
    "\n",
    "U = V # solution function space: Dirichlet: u=g1"
   ]
  },
  {
   "cell_type": "code",
   "execution_count": 6,
   "metadata": {},
   "outputs": [
    {
     "data": {
      "text/plain": [
       "GenericMeasure()"
      ]
     },
     "metadata": {},
     "output_type": "display_data"
    }
   ],
   "source": [
    "# Define integral region\n",
    "degree = 2*order # Q: 2 * order of interpolation \n",
    "Ω = Triangulation(model) # integral space: bulk; mesh: triangular\n",
    "dΩ = Measure(Ω,degree) # integral element: gauss-like quadrature in each cell\n",
    "\n",
    "Ω_d = Triangulation(model, tags=\"domain1\")\n",
    "dΩ_d = Measure(Ω_d, degree)\n",
    "\n",
    "# Ω_c = Triangulation(model, tags=\"PortA\")\n",
    "# dΩ_c = Measure(Ω_c, degree)\n",
    "#neumanntags = [\"clamp\", \"PortA\", \"PortB\"]\n",
    "#Γ = BoundaryTriangulation(model,tags=neumanntags)\n",
    "#Γ = BoundaryTriangulation(model)\n",
    "#dΓ = Measure(Γ,degree)"
   ]
  },
  {
   "cell_type": "code",
   "execution_count": 7,
   "metadata": {},
   "outputs": [
    {
     "data": {
      "text/plain": [
       "(V = UnconstrainedFESpace(), U = UnconstrainedFESpace(), Q = UnconstrainedFESpace(), P = UnconstrainedFESpace(), np = 16020, Ω = BodyFittedTriangulation(), Ω_d = BodyFittedTriangulation(), dΩ = GenericMeasure(), dΩ_d = GenericMeasure())"
      ]
     },
     "metadata": {},
     "output_type": "display_data"
    }
   ],
   "source": [
    "p_reffe = ReferenceFE(lagrangian, Float64, order)\n",
    "Q = TestFESpace(Ω_d, p_reffe, vector_type = Vector{Float64})\n",
    "P = Q\n",
    "np = num_free_dofs(P) # Number of cells in design region (number of design parameters)\n",
    "\n",
    "# pf_reffe = ReferenceFE(lagrangian, Float64, 1)\n",
    "# Qf = TestFESpace(Ω_d, pf_reffe, vector_type = Vector{Float64})\n",
    "# Pf = Qf\n",
    "# fem_params = (; V, U, Q, P, np, Ω, Ω_d, Ω_c, dΩ, dΩ_d, dΩ_c)\n",
    "fem_params = (; V, U, Q, P ,np, Ω, Ω_d,  dΩ, dΩ_d)\n"
   ]
  },
  {
   "cell_type": "code",
   "execution_count": 8,
   "metadata": {},
   "outputs": [
    {
     "data": {
      "text/plain": [
       "(::Λ) (generic function with 1 method)"
      ]
     },
     "metadata": {},
     "output_type": "display_data"
    }
   ],
   "source": [
    "# PML in 3D\n",
    "# Parameters\n",
    "α = 20 # absorption coefficient\n",
    "\n",
    "L1 = (d_pmlx ,d_pmly ,d_pmlz) # Corrected size\n",
    "L2 = (L0-d_pmlx ,H0-d_pmly ,T0-d_pmlz) # Corrected size\n",
    "d_pml = (d_pmlx ,d_pmly ,d_pmlz)\n",
    "\n",
    "function s_PML(x, α, L1, L2, d_pml)\n",
    "    u = abs.(Tuple(x))  # get the depth into PML\n",
    "    return @. ifelse(\n",
    "        u < L1, \n",
    "        1 + (1im*α)*((L1 - u)/d_pml)^2,\n",
    "        ifelse(\n",
    "            u > L2, \n",
    "            1 + (1im*α)*((u - L2)/d_pml)^2, \n",
    "            1.0+0im\n",
    "        )\n",
    "    )\n",
    "end\n",
    "\n",
    "\n",
    "struct Λ<:Function\n",
    "    α::Float64\n",
    "    L1::NTuple{3,Float64}\n",
    "    L2::NTuple{3,Float64}  # Here we increased the dimension to 3\n",
    "    d_pml::NTuple{3,Float64}\n",
    "end\n",
    "\n",
    "function (Λf::Λ)(x)\n",
    "    s_x,s_y,s_z = s_PML(x,Λf.α,Λf.L1,Λf.L2,Λf.d_pml)  # Here we added s_z for the z-axis\n",
    "    return Gridap.TensorValues.SymTensorValue{3, ComplexF64, 6}(\n",
    "        1/s_x, 0.0, 0.0, \n",
    "        1/s_y, 0.0, \n",
    "        1/s_z\n",
    "    )  # Here we added 1/s_z for the z-axis\n",
    "end\n",
    "# function (Λf::Λ)(x)\n",
    "#     s_x,s_y,s_z = s_PML(x,Λf.α,Λf.L1,Λf.L2,Λf.d_pml)  # Here we added s_z for the z-axis\n",
    "#     return VectorValue(1/s_x,1/s_y,1/s_z)\n",
    "# end\n",
    "# Fields.∇(Λf::Λ) = x->TensorValue{3,3,ComplexF64}(1/s_x,0,0, 0,1/s_y,0, 0,0,1/s_z) \n",
    "Λf = Λ(α,L1,L2,d_pml)\n",
    "# Λf = Λ(α,d_pmlx,d_pmly,d_pmlz,L0,H0,T0)"
   ]
  },
  {
   "cell_type": "code",
   "execution_count": 9,
   "metadata": {},
   "outputs": [
    {
     "data": {
      "text/plain": [
       "Threshold (generic function with 1 method)"
      ]
     },
     "metadata": {},
     "output_type": "display_data"
    }
   ],
   "source": [
    "σ = 5\n",
    "β = 32.0                    # β∈[1,∞], threshold sharpness\n",
    "η = 0.5                     # η∈[0,1], threshold center\n",
    "# function Filter(p0;σ)\n",
    "#   # Apply a 1D Gaussian filter\n",
    "#   ker = ImageFiltering.Kernel.gaussian((σ,))\n",
    "#   pf_vec = imfilter(p0, ker)\n",
    "#       # Threshold the filtered array\n",
    "#   # pf_vec[pf_vec .> 0.5] .= 1.0\n",
    "#   # pf_vec[pf_vec .≤ 0.5] .= 0.0\n",
    "#   return pf_vec\n",
    "# end\n",
    "# Function to create a Gaussian kernel as a plain array\n",
    "function gaussian_kernel(σ)\n",
    "  radius = ceil(Int, 3*σ)\n",
    "  x = -radius:radius\n",
    "  \n",
    "  # Calculate the Gaussian function\n",
    "  G = exp.(-x.^2 / (2*σ^2))\n",
    "  \n",
    "  # Normalize the kernel\n",
    "  G /= sum(G)\n",
    "  \n",
    "  return G, radius\n",
    "end\n",
    "\n",
    "# Function to apply a 1D Gaussian filter manually without in-place mutations\n",
    "function Filter(p0; σ)\n",
    "  ker, radius = gaussian_kernel(σ)\n",
    "  n = length(p0)\n",
    "  radius = ceil(Int, 3*σ)\n",
    "  # Use an array comprehension to avoid in-place mutation\n",
    "  pf_vec = [begin\n",
    "              acc = 0.0\n",
    "              for j = 1:length(ker)\n",
    "                  # Compute the corresponding index in p0\n",
    "                  idx = i + j - radius - 1\n",
    "                  # Check if the index is within bounds\n",
    "                  if idx >= 1 && idx <= n\n",
    "                      acc += p0[idx] * ker[j]\n",
    "                  end\n",
    "              end\n",
    "              acc  # This value will be the result of the comprehension for index i\n",
    "            end for i = 1:n]\n",
    "  return pf_vec\n",
    "end\n",
    "function Threshold(pfh; β, η)\n",
    "  return ((tanh(β * η) + tanh(β * (pfh - η))) / (tanh(β * η) + tanh(β * (1.0 - η))))\n",
    "end"
   ]
  },
  {
   "cell_type": "code",
   "execution_count": 10,
   "metadata": {},
   "outputs": [
    {
     "data": {
      "text/plain": [
       "rho_d (generic function with 1 method)"
      ]
     },
     "metadata": {},
     "output_type": "display_data"
    }
   ],
   "source": [
    "function σ_d(ε,p)\n",
    "    \n",
    "    # change to Si only for debuging.\n",
    "    # return λ_Si*tr(ε)*one(ε) + 2*μ_Si*ε\n",
    "\n",
    "    return (p*λ_Si+(1-p)*λ_PDMS)*tr(ε)*one(ε) + 2*(p*μ_Si+(1-p)*μ_PDMS)*ε\n",
    "  \n",
    "end\n",
    "\n",
    "function rho_d(p)\n",
    "\n",
    "    return p*rho_Si+(1-p)*rho_PDMS\n",
    "\n",
    "end\n"
   ]
  },
  {
   "cell_type": "code",
   "execution_count": 11,
   "metadata": {},
   "outputs": [
    {
     "data": {
      "text/plain": [
       "MatrixA (generic function with 1 method)"
      ]
     },
     "metadata": {},
     "output_type": "display_data"
    }
   ],
   "source": [
    "using LinearAlgebra\n",
    "a_design(u,v,pfh) = ( -(Λf.⋅ε(v)) ⊙ (σ_d∘(Λf.⋅ε(u),pfh)) + ((p -> rho_d(p)) ∘ pfh)*omega*omega*u⊙v )\n",
    "function MatrixA(pfh; fem_params)\n",
    "    A_mat = assemble_matrix(fem_params.U, fem_params.V) do u, v\n",
    "         ∫(a_design(u, v, pfh))fem_params.dΩ_d\n",
    "    end\n",
    "    return lu(A_mat)\n",
    "end"
   ]
  },
  {
   "cell_type": "code",
   "execution_count": 12,
   "metadata": {},
   "outputs": [
    {
     "data": {
      "text/plain": [
       "SingleFieldFEFunction():\n",
       " num_cells: 9270\n",
       " DomainStyle: ReferenceDomain()\n",
       " Triangulation: BodyFittedTriangulation()\n",
       " Triangulation id: 6804373554516831602"
      ]
     },
     "metadata": {},
     "output_type": "display_data"
    }
   ],
   "source": [
    "p0 = rand(Float64,fem_params.np)  # Here we make p=0 everywhere just for illustration purpose\n",
    "# pf_vec = Filter(p0;σ)\n",
    "pf_vec = p0\n",
    "pfh = FEFunction(fem_params.P, pf_vec)\n",
    "pth = (pf -> Threshold(pf; β, η)) ∘ pfh\n",
    "A_mat = MatrixA(pth; fem_params)\n",
    "x₀=1.1δ #this should the x coordinate of the center of the cantilever.\n",
    "f = x -> VectorValue(0.0,0.0,10.0^24/(2π) * exp(-(x[1]-x₀)^2/2/δ^2))\n",
    "b_vec = assemble_vector(v->(∫(v⋅f)fem_params.dΩ), fem_params.V)\n",
    "u_vec = A_mat \\ b_vec\n",
    "uh = FEFunction(fem_params.U, u_vec)"
   ]
  },
  {
   "cell_type": "code",
   "execution_count": 13,
   "metadata": {},
   "outputs": [
    {
     "data": {
      "text/plain": [
       "MatrixOf (generic function with 1 method)"
      ]
     },
     "metadata": {},
     "output_type": "display_data"
    }
   ],
   "source": [
    "function MatrixOf(fem_params)\n",
    "    x0 = VectorValue(3δ,-2δ,0.1δ)  # Position of the field to be optimized\n",
    "    return assemble_matrix(fem_params.U, fem_params.V) do u, v\n",
    "        ∫((x->(1/(2*π)*exp(-norm(x - x0)^2 / 2 / δ^2))) * (ε(u) ⊙ ε(v)) )fem_params.dΩ\n",
    "    end\n",
    "end\n",
    "# O=MatrixOf(fem_params)\n",
    "# println(maximum(abs.(O)))"
   ]
  },
  {
   "cell_type": "code",
   "execution_count": 14,
   "metadata": {},
   "outputs": [
    {
     "data": {
      "text/plain": [
       "ZeroTangent()"
      ]
     },
     "metadata": {},
     "output_type": "display_data"
    }
   ],
   "source": [
    "using ChainRulesCore, Zygote\n",
    "import ChainRulesCore: rrule\n",
    "NO_FIELDS = ZeroTangent()"
   ]
  },
  {
   "cell_type": "code",
   "execution_count": 15,
   "metadata": {},
   "outputs": [
    {
     "data": {
      "text/plain": [
       "DAdpf (generic function with 1 method)"
      ]
     },
     "metadata": {},
     "output_type": "display_data"
    }
   ],
   "source": [
    "\n",
    "\n",
    "function dσ_dpt(ε)\n",
    "    \n",
    "\n",
    "    return (λ_Si-λ_PDMS)*tr(ε)*one(ε) + 2*(μ_Si-μ_PDMS)*ε\n",
    "  \n",
    "end\n",
    "\n",
    "function da_drho(u,v)\n",
    "\n",
    "    return omega*omega*u⊙v\n",
    "\n",
    "end\n",
    "\n",
    "drho_dpt = rho_Si-rho_PDMS\n",
    "\n",
    "function da_dσ(ε)\n",
    "\n",
    "    return -ε\n",
    "\n",
    "end\n",
    "Dptdpf(pf, β, η) = β * (1.0 - tanh(β * (pf - η))^2) / (tanh(β * η) + tanh(β * (1.0 - η)))\n",
    "\n",
    "# DAdpf(u,v,pfh;β, η) = (-(Λf.⋅ε(v)) ⊙ (dσ_dpt∘(Λf.⋅ε(u))) + (drho_dpt*da_drho(u,v))) * ((p -> Dξdpf(p, β, η)) ∘ pfh)\n",
    "DAdpf(u,v,pfh;β, η) = (da_dσ∘(Λf.⋅ε(v)) ⊙ (dσ_dpt∘(Λf.⋅ε(u))) + (drho_dpt*da_drho(u,v))) * ((p -> Dptdpf(p, β, η)) ∘ pfh)"
   ]
  },
  {
   "cell_type": "code",
   "execution_count": 16,
   "metadata": {},
   "outputs": [
    {
     "data": {
      "text/plain": [
       "Dgfdpf (generic function with 1 method)"
      ]
     },
     "metadata": {},
     "output_type": "display_data"
    }
   ],
   "source": [
    "function gf_pf(pf_vec; f,β, η, fem_params)\n",
    "    pfh = FEFunction(fem_params.P, pf_vec)\n",
    "    pth = (pf -> Threshold(pf; β, η)) ∘ pfh\n",
    "    A_mat = MatrixA(pth; fem_params)\n",
    "    b_vec = assemble_vector(v->(∫(v⋅f)fem_params.dΩ), fem_params.V)\n",
    "    u_vec = A_mat \\ b_vec\n",
    "\n",
    "    O_mat = MatrixOf(fem_params)\n",
    "    real(u_vec' * O_mat * u_vec)\n",
    "end\n",
    "\n",
    "function rrule(::typeof(gf_pf), pf_vec; f,β, η, fem_params)\n",
    "    function U_pullback(dgdg)\n",
    "      NO_FIELDS, dgdg * Dgfdpf(pf_vec; f,β, η,  fem_params)\n",
    "    end\n",
    "    gf_pf(pf_vec; f,β, η,  fem_params), U_pullback\n",
    "end\n",
    "\n",
    "function Dgfdpf(pf_vec; f,β, η, fem_params)\n",
    "    pfh = FEFunction(fem_params.P, pf_vec)\n",
    "    pth = (pf -> Threshold(pf; β, η)) ∘ pfh\n",
    "    A_mat = MatrixA(pth;  fem_params)\n",
    "    b_vec = assemble_vector(v->(∫(v⋅f)fem_params.dΩ), fem_params.V)\n",
    "    u_vec = A_mat \\ b_vec\n",
    "    O_mat = MatrixOf(fem_params)\n",
    "\n",
    "    uh = FEFunction(fem_params.U, u_vec)\n",
    "    w_vec =  A_mat' \\ (O_mat * u_vec)\n",
    "    wconjh = FEFunction(fem_params.U, conj(w_vec))\n",
    "\n",
    "    l_temp(dp) = ∫(real(-2 * DAdpf(uh, wconjh, pfh;  β, η)) * dp)fem_params.dΩ_d\n",
    "    dgfdpf = assemble_vector(l_temp, fem_params.P)\n",
    "    return dgfdpf\n",
    "end"
   ]
  },
  {
   "cell_type": "code",
   "execution_count": 26,
   "metadata": {},
   "outputs": [
    {
     "data": {
      "text/plain": [
       "Dgdp (generic function with 1 method)"
      ]
     },
     "metadata": {},
     "output_type": "display_data"
    }
   ],
   "source": [
    "\n",
    "function pf_p0(p0; σ)\n",
    "    pf_vec = Filter(p0; σ)\n",
    "    # pf_vec = p0\n",
    "    pf_vec\n",
    "end\n",
    "function rrule(::typeof(pf_p0), p0; σ)\n",
    "  function pf_pullback(dgdpf)\n",
    "    NO_FIELDS, Dgdp(dgdpf,p0; σ,fem_params)\n",
    "  end\n",
    "  pf_p0(p0; σ), pf_pullback\n",
    "end\n",
    "function gaussian_derivative_matrix(σ, p0)\n",
    "  ker, radius = gaussian_kernel(σ)\n",
    "  kernel_length = length(ker)\n",
    "  length_p0 = length(p0)\n",
    "  derivative_matrix = zeros(length_p0, length_p0)\n",
    "  for i = 1:length_p0\n",
    "      for j = 1:kernel_length\n",
    "          idx = i + j - radius - 1\n",
    "          if idx >= 1 && idx <= length_p0\n",
    "              derivative_matrix[i, idx] = ker[j]\n",
    "          end\n",
    "      end\n",
    "  end\n",
    "  \n",
    "  return derivative_matrix\n",
    "end\n",
    "\n",
    "function Dgdp(dgdpf,p0; σ,fem_params)\n",
    "  Af = gaussian_derivative_matrix(σ, p0)\n",
    "  # Af = Diagonal(ones(Int,length(p0)))\n",
    "  wvec = Af' \\ dgdpf\n",
    "  wh = FEFunction(fem_params.P, wvec)\n",
    "  l_temp(dp) = ∫(wh * dp)fem_params.dΩ_d\n",
    "  return assemble_vector(l_temp, fem_params.P)\n",
    "end"
   ]
  },
  {
   "cell_type": "code",
   "execution_count": 29,
   "metadata": {},
   "outputs": [
    {
     "data": {
      "text/plain": [
       "gf_p (generic function with 2 methods)"
      ]
     },
     "metadata": {},
     "output_type": "display_data"
    }
   ],
   "source": [
    "function gf_p(p0::Vector;  σ,f,β, η,fem_params)\n",
    "    # pf_vec = pf_p0(p0; σ)\n",
    "    pf_vec = p0\n",
    "    gf_pf(pf_vec; f,β, η, fem_params)\n",
    "end\n",
    "\n",
    "function gf_p(p0::Vector, grad::Vector;  σ,f,β, η,fem_params)\n",
    "    if length(grad) > 0\n",
    "        dgdp, = Zygote.gradient(p -> gf_p(p;  σ,f,β, η,fem_params), p0)\n",
    "        grad[:] = dgdp\n",
    "    end\n",
    "    gvalue = gf_p(p0::Vector; σ,f,β, η,fem_params)\n",
    "    open(\"gvalue.txt\", \"a\") do io\n",
    "        write(io, \"$gvalue \\n\")\n",
    "    end\n",
    "    gvalue\n",
    "end"
   ]
  },
  {
   "cell_type": "code",
   "execution_count": 30,
   "metadata": {},
   "outputs": [
    {
     "data": {
      "text/plain": [
       "(2.254665600101818e-12, 2.2546337924839496e-12)"
      ]
     },
     "metadata": {},
     "output_type": "display_data"
    }
   ],
   "source": [
    "p0 = rand(fem_params.np)\n",
    "δp = rand(fem_params.np)*1.0e-8\n",
    "grad = zeros(fem_params.np)\n",
    "\n",
    "g0 = gf_p(p0, grad;  σ,f, β, η,fem_params)\n",
    "g1 = gf_p(p0+δp, []; σ,f, β, η,fem_params)\n",
    "g1-g0, grad'*δp"
   ]
  },
  {
   "cell_type": "code",
   "execution_count": null,
   "metadata": {},
   "outputs": [],
   "source": [
    "using NLopt\n",
    "\n",
    "function gf_p_optimize(p_init; TOL = 1e-4, MAX_ITER = 500, f, fem_params)\n",
    "    ##################### Optimize #################\n",
    "    opt = Opt(:LD_MMA, fem_params.np)\n",
    "    opt.lower_bounds = 0\n",
    "    opt.upper_bounds = 1\n",
    "    opt.ftol_rel = TOL\n",
    "    opt.maxeval = MAX_ITER\n",
    "    opt.max_objective = (p0, grad) -> gf_p(p0, grad; f, fem_params)\n",
    "\n",
    "    (g_opt, p_opt, ret) = optimize(opt, p_init)\n",
    "    @show numevals = opt.numevals # the number of function evaluations\n",
    "    return g_opt, p_opt\n",
    "end\n",
    "\n",
    "p_opt = fill(0.4, fem_params.np)   # Initial guess\n",
    "\n",
    "\n",
    "g_opt = 0\n",
    "TOL = 1e-8\n",
    "MAX_ITER = 100\n",
    "g_opt, p_temp_opt = gf_p_optimize(p_opt; TOL, MAX_ITER, f, fem_params)\n",
    "global p_opt = p_temp_opt\n",
    "\n",
    "@show g_opt"
   ]
  },
  {
   "cell_type": "code",
   "execution_count": null,
   "metadata": {},
   "outputs": [],
   "source": [
    "using CairoMakie, GridapMakie\n",
    "p0 = p_opt\n",
    "\n",
    "p_vec = p0\n",
    "pfh = FEFunction(fem_params.P, p_vec)\n",
    "\n",
    "A_mat = MatrixA(pfh; fem_params)\n",
    "f = x -> VectorValue(0.0,0.0,10.0^24/(2π) * exp(-(x[1]-x₀)^2/2/δ^2))\n",
    "b_vec = assemble_vector(v->(∫(v⋅f)fem_params.dΩ), fem_params.V)\n",
    "u_vec = A_mat \\ b_vec\n",
    "uh = FEFunction(fem_params.U, u_vec)\n",
    "\n",
    "fig, ax, plt = plot(fem_params.Ω, pfh, colormap = :binary)\n",
    "Colorbar(fig[1,2], plt)\n",
    "ax.aspect = AxisAspect(1)\n",
    "ax.title = \"Design Shape\"\n",
    "rplot = 110 # Region for plot\n",
    "limits!(ax, 0, 6δ, 0, -4δ)\n",
    "save(\"shape.png\", fig)"
   ]
  },
  {
   "cell_type": "code",
   "execution_count": null,
   "metadata": {},
   "outputs": [],
   "source": [
    "maxe = 30 # Maximum electric field magnitude compared to the incident plane wave\n",
    "# u1=abs2(phys_params.n_air^2)\n",
    "# u2=abs2(phys_params.n_metal^2)\n",
    "\n",
    "fig, ax, plt = plot(fem_params.Ω, 2*(sqrt∘(abs((conj(ε(uh)) ⋅ ε(uh))))), colormap = :hot, colorrange=(0, maxe))\n",
    "Colorbar(fig[1,2], plt)\n",
    "ax.title = \"|u|\"\n",
    "ax.aspect = AxisAspect(1)\n",
    "limits!(ax, 0, 6δ, 0, -4δ)\n",
    "save(\"Field.png\", fig)"
   ]
  },
  {
   "cell_type": "code",
   "execution_count": null,
   "metadata": {},
   "outputs": [],
   "source": [
    "\n",
    "x₀=1.1δ #this should the x coordinate of the center of the cantilever.\n",
    "\n",
    "f = x -> VectorValue(0.0,0.0,1/(2π) * exp(-(x[1]-x₀)^2/2/δ^2))\n",
    "\n",
    "\n",
    "# l(v) = 0\n",
    "l(v) = ∫( v⋅f )*dΩ\n",
    "# a(u,v) = ∫( -ε(v) ⊙ (σ_Si∘(ε(u))) + rho_Si*omega*omega*u⊙v )*dΩ\n",
    "\n",
    "a(u,v) = ∫( -(Λf.⋅ε(v)) ⊙ (σ_Si∘(Λf.⋅ε(u))) + rho_Si*omega*omega*u⊙v )*dΩ\n",
    "println(\"assemble 2\")\n",
    "op = AffineFEOperator(a,l,U,V0)\n",
    "\n",
    "println(\"solving 2\")\n",
    "#solve\n",
    "solver = LinearFESolver()\n",
    "uh = solve(solver, op)\n",
    "\n",
    "println(\"writing solution 1\")\n",
    "writevtk(Ω,\"20230922_pureSi_shift_no_PML\",cellfields=[\"uhR\"=>real(uh), \"rho\"=>rho_Si])\n",
    "\n",
    "println(\"complete.\")"
   ]
  },
  {
   "cell_type": "code",
   "execution_count": null,
   "metadata": {},
   "outputs": [],
   "source": [
    "g = zeros(Float64, 11)\n",
    "\n",
    "for c in 1:1:11\n",
    "    g[c] = real(uh(VectorValue(10δ,-2δ,(c-1)*δ/10)))[3]\n",
    "end\n",
    "\n",
    "p = plot((0:1:10)*δ/10, g, label=\"With PML\", xlims=(0,10*δ/10), ylims=(-4e-24,4e-24),\n",
    "         xlabel=\"z/m\", ylabel=\"real(uz)\", framestyle=:box,seriestype=:line, grid=true,xticks=0:1e-6:5e-6,yticks=-4e-24:2e-24:4e-24)\n",
    "\n",
    "# Add vertical lines at x = 2e-6 and 18e-6\n",
    "vline!(p, [1e-6, 3e-6], color=:red, linestyle=:dash,label=\"\")\n",
    "\n",
    "# Display the updated plot\n",
    "display(p)"
   ]
  },
  {
   "cell_type": "code",
   "execution_count": null,
   "metadata": {},
   "outputs": [],
   "source": [
    "g = zeros(Float64, 41)\n",
    "\n",
    "for c in 1:1:41\n",
    "    g[c] = real(uh(VectorValue(10δ,-(c-1)*δ/10,0.5δ)))[3]\n",
    "end\n",
    "\n",
    "# p = plot((0:1:40)*δ/10, g, label=\"With PML\", xlims=(0,40*δ/10), ylims=(-4e-24,4e-24),\n",
    "#          xlabel=\"y/m\", ylabel=\"real(uz)\", framestyle=:box,seriestype=:line, grid=true,xticks=0:1e-6:5e-6,yticks=-4e-24:2e-24:4e-24)\n",
    "p = plot((0:1:40)*δ/10, g, label=\"With PML\", xlims=(0,40*δ/10),ylims=(0,2e-24),\n",
    "         xlabel=\"y/m\", ylabel=\"real(uz)\", framestyle=:box,seriestype=:line, grid=true,xticks=0:1e-6:4e-6)\n",
    "# Add vertical lines at x = 2e-6 and 18e-6\n",
    "vline!(p, [1e-6, 3e-6], color=:red, linestyle=:dash,label=\"\")\n",
    "\n",
    "# Display the updated plot\n",
    "display(p)"
   ]
  },
  {
   "cell_type": "code",
   "execution_count": null,
   "metadata": {},
   "outputs": [],
   "source": [
    "\n",
    "\n",
    "g = zeros(Float64, 221)\n",
    "\n",
    "for c in 1:1:221\n",
    "    g[c] = abs(real(uh(VectorValue((c-1)*δ/10,-2δ,0.5δ)))[3])\n",
    "end\n",
    "\n",
    "# p = plot((0:1:200)*δ/10, g, label=\"With PML\", xlims=(0,200*δ/10), ylims=(-4e-24,4e-24),\n",
    "#          xlabel=\"x/m\", ylabel=\"real(uz)\", framestyle=:box,seriestype=:line, grid=true,xticks=0:5e-6:20e-6,yticks=-4e-24:2e-24:4e-24)\n",
    "p = plot((0:1:220)*δ/10, g, label=\"With PML\", xlims=(0,220*δ/10), \n",
    "         xlabel=\"x/m\", ylabel=\"real(uz)\", framestyle=:box,seriestype=:line, grid=true,xticks=0:2e-6:22e-6,yticks=0:0.4e-24:2e-24)\n",
    "# Add vertical lines at x = 2e-6 and 18e-6\n",
    "vline!(p, [2e-6, 20e-6], color=:red, linestyle=:dash,label=\"\")\n",
    "\n",
    "# Display the updated plot\n",
    "display(p)\n"
   ]
  },
  {
   "cell_type": "code",
   "execution_count": null,
   "metadata": {},
   "outputs": [],
   "source": [
    "# Scalar value used for inverse design\n",
    "\n",
    "result_freq = Vector{Float64}()\n",
    "result_A = Vector{Float64}()\n",
    "result_B = Vector{Float64}()\n",
    "\n",
    "A = BoundaryTriangulation(model, tags=\"PortA\") # Boundary triangulation assumes neumann boundary\n",
    "dA = CellQuadrature(A, degree)\n",
    "int1 = sum(integrate(uh, dA ))\n",
    "int2 = sum(integrate(1,dA))\n",
    "response_A = int1/int2 /0.001 # \n",
    "resZ_A = abs(response_A[3])\n",
    "append!(result_A, resZ_A)\n",
    "\n",
    "\n",
    "\n",
    "B = BoundaryTriangulation(model, tags=\"PortB\")\n",
    "dB = CellQuadrature(B, degree)\n",
    "int1 = sum(integrate(uh, dB ))\n",
    "int2 = sum(integrate(1,dB))\n",
    "response_B = int1/int2 /0.001\n",
    "resZ_B = abs(response_B[3])\n",
    "append!(result_B, resZ_B)\n",
    "\n",
    "\n",
    "println(\"$freq, $resZ_A, $resZ_B\")"
   ]
  }
 ],
 "metadata": {
  "kernelspec": {
   "display_name": "Julia 1.8.5",
   "language": "julia",
   "name": "julia-1.8"
  },
  "language_info": {
   "file_extension": ".jl",
   "mimetype": "application/julia",
   "name": "julia",
   "version": "1.8.5"
  }
 },
 "nbformat": 4,
 "nbformat_minor": 2
}
