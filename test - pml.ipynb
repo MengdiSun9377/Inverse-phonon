{
 "cells": [
  {
   "cell_type": "code",
   "execution_count": 1,
   "metadata": {},
   "outputs": [],
   "source": [
    "# use packages\n",
    "using MKL\n",
    "using Plots\n",
    "using Gridap, GridapGmsh, Gridap.Geometry, Gridap.Fields\n",
    "\n",
    "#Pardiso solver is much faster\n",
    "# using GridapPardiso\n",
    "# using SparseMatricesCSR\n",
    "\n",
    "# For image generation.\n",
    "#using Images, ImageView,ImageFiltering\n",
    "using ImageFiltering\n",
    "# using BenchmarkTools"
   ]
  },
  {
   "cell_type": "code",
   "execution_count": 2,
   "metadata": {},
   "outputs": [
    {
     "data": {
      "text/plain": [
       "2.5e-7"
      ]
     },
     "metadata": {},
     "output_type": "display_data"
    }
   ],
   "source": [
    "# constant\n",
    "# Material property\n",
    "function lame_parameters(E,ν)\n",
    "    λ = (E*ν)/((1+ν)*(1-2*ν))\n",
    "    μ = E/(2*(1+ν))\n",
    "    (λ, μ)\n",
    "end\n",
    "  \n",
    "#Silicon \n",
    "const E_Si = 160.0e9\n",
    "const ν_Si = 0.27\n",
    "const (λ_Si, μ_Si) = lame_parameters(E_Si, ν_Si) \n",
    "const rho_Si = 2329.0     # kg/m^3\n",
    "σ_Si(ε) = λ_Si*tr(ε)*one(ε) + 2*μ_Si*ε\n",
    "\n",
    "# #Vacuum \n",
    "# const E_va = 0.0\n",
    "# const ν_va = 0.0\n",
    "# const (λ_va, μ_va) = lame_parameters(E_va, ν_va) \n",
    "# const rho_va = 0.0    # kg/m^3\n",
    "# σ_va(ε) = λ_va*tr(ε)*one(ε) + 2*μ_va*ε\n",
    "  \n",
    "#PDMS\n",
    "const E_PDMS = 1.0e6\n",
    "const ν_PDMS = 0.45\n",
    "const (λ_PDMS, μ_PDMS) = lame_parameters(E_PDMS, ν_PDMS)\n",
    "const rho_PDMS = 790.0  #kg/m3\n",
    "σ_PDMS(ε) = λ_PDMS*tr(ε)*one(ε) + 2*μ_PDMS*ε\n",
    "\n",
    "# frequency\n",
    "freq = 1000e6\n",
    "omega = 2*π*  (freq)\n",
    "δ=1e-6\n",
    "L0 = 22 * δ # Length of device\n",
    "H0 = 4 * δ # Width of device\n",
    "T0 = 1 * δ # Height of device\n",
    "d_pmlx = 1 * δ  # Thickness of the PML\n",
    "d_pmly = 0.5 * δ  # Thickness of the PML\n",
    "d_pmlz = 0.25 * δ  # Thickness of the PML\n"
   ]
  },
  {
   "cell_type": "code",
   "execution_count": 3,
   "metadata": {},
   "outputs": [
    {
     "data": {
      "text/plain": [
       "abs (generic function with 21 methods)"
      ]
     },
     "metadata": {},
     "output_type": "display_data"
    }
   ],
   "source": [
    "# user-defined functions\n",
    "import Base:real\n",
    "function real(a :: VectorValue{D, T}) where {D, T<:Number}\n",
    "    return VectorValue([real(a[i]) for i in 1:D])\n",
    "end\n",
    "\n",
    "import Base:imag\n",
    "function imag(a :: VectorValue{D, T}) where {D<:Int, T<:Number}\n",
    "    return VectorValue([imag(a[i]) for i in 1:D])\n",
    "end\n",
    "\n",
    "import Base:abs\n",
    "function abs(a :: VectorValue{D, T}) where {D<:Int, T<:Number}\n",
    "    return VectorValue([abs(a[i]) for i in 1:D])\n",
    "end\n"
   ]
  },
  {
   "cell_type": "code",
   "execution_count": 4,
   "metadata": {},
   "outputs": [
    {
     "name": "stdout",
     "output_type": "stream",
     "text": [
      "Info    : Reading 'E:/Work/Postdoc/Quantumphononics/Test/cantilever_3P_20230701.msh'...\n",
      "Info    : 99 entities\n",
      "Info    : 19635 nodes\n",
      "Info    : 96390 elements\n",
      "Info    : Done reading 'E:/Work/Postdoc/Quantumphononics/Test/cantilever_3P_20230701.msh'\n"
     ]
    },
    {
     "data": {
      "text/plain": [
       "4-element Vector{Vector{String}}:\n",
       " [\"cant_model_0.vtu\"]\n",
       " [\"cant_model_1.vtu\"]\n",
       " [\"cant_model_2.vtu\"]\n",
       " [\"cant_model_3.vtu\"]"
      ]
     },
     "metadata": {},
     "output_type": "display_data"
    }
   ],
   "source": [
    "# load meshes and view the models\n",
    "model = GmshDiscreteModel(\"E:/Work/Postdoc/Quantumphononics/Test/cantilever_3P_20230701.msh\")\n",
    "writevtk(model,\"cant_model\") # write the model to vtk\n"
   ]
  },
  {
   "cell_type": "code",
   "execution_count": 5,
   "metadata": {},
   "outputs": [
    {
     "data": {
      "text/plain": [
       "UnconstrainedFESpace()"
      ]
     },
     "metadata": {},
     "output_type": "display_data"
    }
   ],
   "source": [
    "# Define ref/test space\n",
    "order = 2 # 2nd order Lagrange interpolation\n",
    "\n",
    "reffe = ReferenceFE(lagrangian,VectorValue{3,ComplexF64},order) # Finite element basis: 2nd order lagrange interpolation of the funciton space\n",
    "\n",
    "#Linbo: changed to ComplexF64  for have complex number in displacement representing the phase\n",
    "\n",
    "# V0 = TestFESpace(model,reffe;\n",
    "#   conformity=:H1,\n",
    "#   dirichlet_tags=[\"clamp\",],\n",
    "#   dirichlet_masks=[(true,true,true),])\n",
    "V = TestFESpace(model,reffe;\n",
    "  conformity=:H1,)\n",
    "# g1(x) = VectorValue(0, 0.0, 0.0001) # Dirichlet boundary condition: the third component of the displacement vector is 0.0001\n",
    "# g1(x) = VectorValue(0, 0.0, 0.0) # Dirichlet boundary condition: the third component of the displacement vector is 0.0001\n",
    "# U = TrialFESpace(V0,[g1]) # solution function space: Dirichlet: u=g1\n",
    "\n",
    "U = V # solution function space: Dirichlet: u=g1"
   ]
  },
  {
   "cell_type": "code",
   "execution_count": 6,
   "metadata": {},
   "outputs": [
    {
     "data": {
      "text/plain": [
       "GenericMeasure()"
      ]
     },
     "metadata": {},
     "output_type": "display_data"
    }
   ],
   "source": [
    "# Define integral region\n",
    "degree = 2*order # Q: 2 * order of interpolation \n",
    "Ω = Triangulation(model) # integral space: bulk; mesh: triangular\n",
    "dΩ = Measure(Ω,degree) # integral element: gauss-like quadrature in each cell\n",
    "\n",
    "Ω_d = Triangulation(model, tags=\"domain1\")\n",
    "dΩ_d = Measure(Ω_d, degree)\n",
    "\n",
    "Ω_c = Triangulation(model, tags=\"PortA\")\n",
    "dΩ_c = Measure(Ω_c, degree)\n",
    "#neumanntags = [\"clamp\", \"PortA\", \"PortB\"]\n",
    "#Γ = BoundaryTriangulation(model,tags=neumanntags)\n",
    "#Γ = BoundaryTriangulation(model)\n",
    "#dΓ = Measure(Γ,degree)"
   ]
  },
  {
   "cell_type": "code",
   "execution_count": 7,
   "metadata": {},
   "outputs": [
    {
     "data": {
      "text/plain": [
       "(V = UnconstrainedFESpace(), U = UnconstrainedFESpace(), Q = UnconstrainedFESpace(), P = UnconstrainedFESpace(), Qf = UnconstrainedFESpace(), Pf = UnconstrainedFESpace(), np = 96030, Ω = BodyFittedTriangulation(), Ω_d = BodyFittedTriangulation(), Ω_c = BodyFittedTriangulation(), dΩ = GenericMeasure(), dΩ_d = GenericMeasure(), dΩ_c = GenericMeasure())"
      ]
     },
     "metadata": {},
     "output_type": "display_data"
    }
   ],
   "source": [
    "p_reffe = ReferenceFE(lagrangian, Float64, 0)\n",
    "Q = TestFESpace(Ω_d, p_reffe, vector_type = Vector{Float64})\n",
    "P = Q\n",
    "np = num_free_dofs(P) # Number of cells in design region (number of design parameters)\n",
    "pf_reffe = ReferenceFE(lagrangian, Float64, 1)\n",
    "Qf = TestFESpace(Ω_d, pf_reffe, vector_type = Vector{Float64})\n",
    "Pf = Qf\n",
    "fem_params = (; V, U, Q, P, Qf, Pf, np, Ω, Ω_d, Ω_c, dΩ, dΩ_d, dΩ_c)"
   ]
  },
  {
   "cell_type": "code",
   "execution_count": 8,
   "metadata": {},
   "outputs": [
    {
     "data": {
      "text/plain": [
       "(::Λ) (generic function with 1 method)"
      ]
     },
     "metadata": {},
     "output_type": "display_data"
    }
   ],
   "source": [
    "# PML in 3D\n",
    "# Parameters\n",
    "α = 20 # absorption coefficient\n",
    "\n",
    "L1 = (d_pmlx ,d_pmly ,d_pmlz) # Corrected size\n",
    "L2 = (L0-d_pmlx ,H0-d_pmly ,T0-d_pmlz) # Corrected size\n",
    "d_pml = (d_pmlx ,d_pmly ,d_pmlz)\n",
    "\n",
    "function s_PML(x, α, L1, L2, d_pml)\n",
    "    u = abs.(Tuple(x))  # get the depth into PML\n",
    "    return @. ifelse(\n",
    "        u < L1, \n",
    "        1 + (1im*α)*((L1 - u)/d_pml)^2,\n",
    "        ifelse(\n",
    "            u > L2, \n",
    "            1 + (1im*α)*((u - L2)/d_pml)^2, \n",
    "            1.0+0im\n",
    "        )\n",
    "    )\n",
    "end\n",
    "\n",
    "\n",
    "struct Λ<:Function\n",
    "    α::Float64\n",
    "    L1::NTuple{3,Float64}\n",
    "    L2::NTuple{3,Float64}  # Here we increased the dimension to 3\n",
    "    d_pml::NTuple{3,Float64}\n",
    "end\n",
    "\n",
    "function (Λf::Λ)(x)\n",
    "    s_x,s_y,s_z = s_PML(x,Λf.α,Λf.L1,Λf.L2,Λf.d_pml)  # Here we added s_z for the z-axis\n",
    "    return Gridap.TensorValues.SymTensorValue{3, ComplexF64, 6}(\n",
    "        1/s_x, 0.0, 0.0, \n",
    "        1/s_y, 0.0, \n",
    "        1/s_z\n",
    "    )  # Here we added 1/s_z for the z-axis\n",
    "end\n",
    "# function (Λf::Λ)(x)\n",
    "#     s_x,s_y,s_z = s_PML(x,Λf.α,Λf.L1,Λf.L2,Λf.d_pml)  # Here we added s_z for the z-axis\n",
    "#     return VectorValue(1/s_x,1/s_y,1/s_z)\n",
    "# end\n",
    "# Fields.∇(Λf::Λ) = x->TensorValue{3,3,ComplexF64}(1/s_x,0,0, 0,1/s_y,0, 0,0,1/s_z) \n",
    "Λf = Λ(α,L1,L2,d_pml)\n",
    "# Λf = Λ(α,d_pmlx,d_pmly,d_pmlz,L0,H0,T0)"
   ]
  },
  {
   "cell_type": "code",
   "execution_count": 9,
   "metadata": {},
   "outputs": [
    {
     "data": {
      "text/plain": [
       "Threshold (generic function with 1 method)"
      ]
     },
     "metadata": {},
     "output_type": "display_data"
    }
   ],
   "source": [
    "# Threshold\n",
    "# r = 5/sqrt(3)*100               # Filter radius\n",
    "# β = 32.0                    # β∈[1,∞], threshold sharpness\n",
    "# η = 0.5                     # η∈[0,1], threshold center\n",
    "\n",
    "# a_f(r, u, v) = r^2 * (ε(v) ⊙ ε(u))\n",
    "\n",
    "# function Filter(p0; r, fem_params)\n",
    "#     ph = FEFunction(fem_params.P, p0)\n",
    "#     op = AffineFEOperator(fem_params.Pf, fem_params.Qf) do u, v\n",
    "#         ∫(a_f(r, u, v))fem_params.dΩ_d + ∫(v ⊙ u)fem_params.dΩ_d, ∫(v ⊙ ph)fem_params.dΩ_d\n",
    "#       end\n",
    "#     pfh = solve(op)\n",
    "#     return get_free_dof_values(pfh)\n",
    "# end\n",
    "\n",
    "# function Threshold(p0; β, η)\n",
    "#     return ((tanh(β * η) + tanh(β * (p0 - η))) / (tanh(β * η) + tanh(β * (1.0 - η))))\n",
    "# end\n",
    "# a(u,v) = ∫( -(Λf.⋅ε(v)) ⊙ (σ_Si∘(Λf.⋅ε(u))) + rho_Si*omega*omega*u⊙v )*dΩ\n"
   ]
  },
  {
   "cell_type": "code",
   "execution_count": 14,
   "metadata": {},
   "outputs": [
    {
     "data": {
      "text/plain": [
       "MatrixA (generic function with 1 method)"
      ]
     },
     "metadata": {},
     "output_type": "display_data"
    }
   ],
   "source": [
    "using LinearAlgebra\n",
    "ξd(p, σ_Si, σ_PDMS)= p ⋅ σ_Si + (1-p) ⋅ σ_PDMS\n",
    "a_base(u,v) = ( -(Λf.⋅ε(v)) ⊙ (σ_PDMS∘(Λf.⋅ε(u))) + rho_PDMS*omega*omega*u⊙v )\n",
    "# a_design(u, v, pth) = ((p -> ξd(p, σ_Si, σ_va)) ∘ pth) * (ε(v) ⊙ ε(u))\n",
    "a_design(u, v, pth) = pth * (ε(v) ⊙ ε(u))\n",
    "function MatrixA(pth; fem_params)\n",
    "    A_mat = assemble_matrix(fem_params.U, fem_params.V) do u, v\n",
    "        ∫(a_base(u, v))fem_params.dΩ + ∫(a_design(u, v, pth))fem_params.dΩ_d\n",
    "    end\n",
    "    return lu(A_mat)\n",
    "end"
   ]
  },
  {
   "cell_type": "code",
   "execution_count": 15,
   "metadata": {},
   "outputs": [
    {
     "data": {
      "text/plain": [
       "SingleFieldFEFunction():\n",
       " num_cells: 96030\n",
       " DomainStyle: ReferenceDomain()\n",
       " Triangulation: BodyFittedTriangulation()\n",
       " Triangulation id: 6984631305094146892"
      ]
     },
     "metadata": {},
     "output_type": "display_data"
    }
   ],
   "source": [
    "p0 = zeros(Float64,fem_params.np)  # Here we make p=0 everywhere just for illustration purpose\n",
    "# pf_vec = Filter(p0;r, fem_params)\n",
    "pfh = FEFunction(fem_params.Pf, p0)\n",
    "# pth = (pf -> Threshold(pf; β, η)) ∘ pfh\n",
    "A_mat = MatrixA(pfh; fem_params)\n",
    "x₀=1.1δ #this should the x coordinate of the center of the cantilever.\n",
    "f = x -> VectorValue(0.0,0.0,1/(2π) * exp(-(x[1]-x₀)^2/2/δ^2))\n",
    "b_vec = assemble_vector(v->(∫(v⋅f)fem_params.dΩ), fem_params.V)\n",
    "u_vec = A_mat \\ b_vec\n",
    "uh = FEFunction(fem_params.U, u_vec)"
   ]
  },
  {
   "cell_type": "code",
   "execution_count": 16,
   "metadata": {},
   "outputs": [
    {
     "data": {
      "text/plain": [
       "MatrixOf (generic function with 1 method)"
      ]
     },
     "metadata": {},
     "output_type": "display_data"
    }
   ],
   "source": [
    "function MatrixOf(fem_params)\n",
    "    x0 = VectorValue(20.9δ,-2.75δ,0.5δ)  # Position of the field to be optimized\n",
    "    return assemble_matrix(fem_params.U, fem_params.V) do u, v\n",
    "        ∫((x->(1/(2*π)*exp(-norm(x - x0)^2 / 2 / δ^2))) * (ε(u) ⊙ ε(v)) )fem_params.dΩ_c\n",
    "    end\n",
    "end"
   ]
  },
  {
   "cell_type": "code",
   "execution_count": 17,
   "metadata": {},
   "outputs": [
    {
     "data": {
      "text/plain": [
       "ZeroTangent()"
      ]
     },
     "metadata": {},
     "output_type": "display_data"
    }
   ],
   "source": [
    "using ChainRulesCore, Zygote\n",
    "import ChainRulesCore: rrule\n",
    "NO_FIELDS = ZeroTangent()"
   ]
  },
  {
   "cell_type": "code",
   "execution_count": null,
   "metadata": {},
   "outputs": [],
   "source": [
    "Dptdpf(pf, β, η) = β * (1.0 - tanh(β * (pf - η))^2) / (tanh(β * η) + tanh(β * (1.0 - η)))\n",
    "\n",
    "Dξdpf(pf, σ_va, σ_Si, β, η)= (σ_Si-σ_va) * Dptdpf(pf, β, η)\n",
    "\n",
    "DAdpf(u, v, pfh;  σ_va, σ_Si, β, η) = ((p -> Dξdpf(p, σ_va, σ_Si, β, η)) ∘ pfh) * (ε(v) ⊙ ε(u))"
   ]
  },
  {
   "cell_type": "code",
   "execution_count": null,
   "metadata": {},
   "outputs": [],
   "source": [
    "function gf_pf(pf_vec; β, η, f,fem_params)\n",
    "    pfh = FEFunction(fem_params.Pf, pf_vec)\n",
    "    pth = (pf -> Threshold(pf; β, η)) ∘ pfh\n",
    "    A_mat = MatrixA(pth; fem_params)\n",
    "    b_vec = assemble_vector(v->(∫(v⋅f)fem_params.dΩ), fem_params.V)\n",
    "    u_vec = A_mat \\ b_vec\n",
    "\n",
    "    O_mat = MatrixOf(fem_params)\n",
    "    real(u_vec' * O_mat * u_vec)\n",
    "end\n",
    "\n",
    "function rrule(::typeof(gf_pf), pf_vec; σ_va, σ_Si, β, η,  f,fem_params)\n",
    "    function U_pullback(dgdg)\n",
    "      NO_FIELDS, dgdg * Dgfdpf(pf_vec; σ_va, σ_Si, β, η, f,fem_params)\n",
    "    end\n",
    "    gf_pf(pf_vec; β, η, f,fem_params), U_pullback\n",
    "end\n",
    "\n",
    "function Dgfdpf(pf_vec; σ_va, σ_Si, β, η, f,fem_params)\n",
    "    pfh = FEFunction(fem_params.Pf, pf_vec)\n",
    "    pth = (pf -> Threshold(pf; β, η)) ∘ pfh\n",
    "    A_mat = MatrixA(pth; fem_params)\n",
    "    b_vec = assemble_vector(v->(∫(v⋅f)fem_params.dΩ), fem_params.V)\n",
    "    u_vec = A_mat \\ b_vec\n",
    "    O_mat = MatrixOf(fem_params)\n",
    "\n",
    "    uh = FEFunction(fem_params.U, u_vec)\n",
    "    w_vec =  A_mat' \\ (O_mat * u_vec)\n",
    "    wconjh = FEFunction(fem_params.U, conj(w_vec))\n",
    "\n",
    "    l_temp(dp) = ∫(real(-2 * DAdpf(uh, wconjh, pfh; σ_va, σ_Si,  β, η)) * dp)fem_params.dΩ_d\n",
    "    dgfdpf = assemble_vector(l_temp, fem_params.Pf)\n",
    "    return dgfdpf\n",
    "end\n",
    "\n"
   ]
  },
  {
   "cell_type": "code",
   "execution_count": null,
   "metadata": {},
   "outputs": [],
   "source": [
    "function pf_p0(p0; r, fem_params)\n",
    "  pf_vec = Filter(p0; r, fem_params)\n",
    "  pf_vec\n",
    "end\n",
    "\n",
    "function rrule(::typeof(pf_p0), p0; r, fem_params)\n",
    "  function pf_pullback(dgdpf)\n",
    "    NO_FIELDS, Dgdp(dgdpf; r, fem_params)\n",
    "  end\n",
    "  pf_p0(p0; r, fem_params), pf_pullback\n",
    "end\n",
    "\n",
    "function Dgdp(dgdpf; r, fem_params)\n",
    "  Af = assemble_matrix(fem_params.Pf, fem_params.Qf) do u, v\n",
    "      ∫(a_f(r, u, v))fem_params.dΩ_d + ∫(v * u)fem_params.dΩ_d\n",
    "  end\n",
    "  wvec = Af' \\ dgdpf\n",
    "  wh = FEFunction(fem_params.Pf, wvec)\n",
    "  l_temp(dp) = ∫(wh * dp)fem_params.dΩ_d\n",
    "  return assemble_vector(l_temp, fem_params.P)\n",
    "end"
   ]
  },
  {
   "cell_type": "code",
   "execution_count": null,
   "metadata": {},
   "outputs": [],
   "source": [
    "function gf_p(p0::Vector; r, β, η,f,fem_params)\n",
    "    pf_vec = pf_p0(p0; r, fem_params)\n",
    "    gf_pf(pf_vec; β, η, f, fem_params)\n",
    "end\n",
    "\n",
    "function gf_p(p0::Vector, grad::Vector; r, β, η, f,fem_params)\n",
    "    if length(grad) > 0\n",
    "        dgdp, = Zygote.gradient(p -> gf_p(p; r, β, η, f,fem_params), p0)\n",
    "        grad[:] = dgdp\n",
    "    end\n",
    "    gvalue = gf_p(p0::Vector; r, β, η, f,fem_params)\n",
    "    open(\"gvalue.txt\", \"a\") do io\n",
    "        write(io, \"$gvalue \\n\")\n",
    "    end\n",
    "    gvalue\n",
    "end"
   ]
  },
  {
   "cell_type": "code",
   "execution_count": null,
   "metadata": {},
   "outputs": [],
   "source": [
    "p0 = rand(fem_params.np)\n",
    "δp = rand(fem_params.np)*1e-6\n",
    "grad = zeros(fem_params.np)\n",
    "\n",
    "g0 = gf_p(p0, grad; r, β, η, f,fem_params)\n",
    "g1 = gf_p(p0+δp, []; r, β, η, f,fem_params)\n",
    "g1-g0, grad'*δp"
   ]
  },
  {
   "cell_type": "code",
   "execution_count": null,
   "metadata": {},
   "outputs": [],
   "source": [
    "using NLopt\n",
    "\n",
    "function gf_p_optimize(p_init; r, β, η, TOL = 1e-4, MAX_ITER = 500, f, fem_params)\n",
    "    ##################### Optimize #################\n",
    "    opt = Opt(:LD_MMA, fem_params.np)\n",
    "    opt.lower_bounds = 0\n",
    "    opt.upper_bounds = 1\n",
    "    opt.ftol_rel = TOL\n",
    "    opt.maxeval = MAX_ITER\n",
    "    opt.max_objective = (p0, grad) -> gf_p(p0, grad; r, β, η, f, fem_params)\n",
    "\n",
    "    (g_opt, p_opt, ret) = optimize(opt, p_init)\n",
    "    @show numevals = opt.numevals # the number of function evaluations\n",
    "    return g_opt, p_opt\n",
    "end\n",
    "\n",
    "p_opt = fill(0.4, fem_params.np)   # Initial guess\n",
    "β_list = [8.0, 16.0, 32.0]\n",
    "\n",
    "g_opt = 0\n",
    "TOL = 1e-8\n",
    "MAX_ITER = 100\n",
    "for bi = 1 : 3\n",
    "    β = β_list[bi]\n",
    "    g_opt, p_temp_opt = gf_p_optimize(p_opt; r, β, η, TOL, MAX_ITER, f, fem_params)\n",
    "    global p_opt = p_temp_opt\n",
    "end\n",
    "@show g_opt"
   ]
  },
  {
   "cell_type": "code",
   "execution_count": null,
   "metadata": {},
   "outputs": [],
   "source": [
    "using NLopt\n",
    "\n",
    "function gf_p_optimize(p_init; r, β, η, TOL = 1e-4, MAX_ITER = 500, f, fem_params)\n",
    "    ##################### Optimize #################\n",
    "    opt = Opt(:LD_MMA, fem_params.np)\n",
    "    opt.lower_bounds = 0\n",
    "    opt.upper_bounds = 1\n",
    "    opt.ftol_rel = TOL\n",
    "    opt.maxeval = MAX_ITER\n",
    "    opt.max_objective = (p0, grad) -> gf_p(p0, grad; r, β, η, f, fem_params)\n",
    "\n",
    "    (g_opt, p_opt, ret) = optimize(opt, p_init)\n",
    "    @show numevals = opt.numevals # the number of function evaluations\n",
    "    return g_opt, p_opt\n",
    "end\n",
    "\n",
    "p_opt = fill(0.4, fem_params.np)   # Initial guess\n",
    "β_list = [8.0, 16.0, 32.0]\n",
    "\n",
    "g_opt = 0\n",
    "TOL = 1e-6\n",
    "MAX_ITER = 100\n",
    "for bi = 1 : 3\n",
    "    β = β_list[bi]\n",
    "    g_opt, p_temp_opt = gf_p_optimize(p_opt; r, β, η, TOL, MAX_ITER, f, fem_params)\n",
    "    global p_opt = p_temp_opt\n",
    "end\n",
    "@show g_opt"
   ]
  },
  {
   "cell_type": "code",
   "execution_count": null,
   "metadata": {},
   "outputs": [],
   "source": [
    "using CairoMakie, GridapMakie\n",
    "p0 = p_opt\n",
    "\n",
    "pf_vec = pf_p0(p0; r, fem_params)\n",
    "pfh = FEFunction(fem_params.Pf, pf_vec)\n",
    "pth = (pf -> Threshold(pf; β, η)) ∘ pfh\n",
    "A_mat = MatrixA(pth; phys_params, fem_params)\n",
    "f = x -> VectorValue(0.0,0.0,1/(2π) * exp(-(x[1]-x₀)^2/2/δ^2))\n",
    "b_vec = assemble_vector(v->(∫(v⋅f)fem_params.dΩ), fem_params.V)\n",
    "u_vec = A_mat \\ b_vec\n",
    "uh = FEFunction(fem_params.U, u_vec)\n",
    "\n",
    "fig, ax, plt = plot(fem_params.Ω, pth, colormap = :binary)\n",
    "Colorbar(fig[1,2], plt)\n",
    "ax.aspect = AxisAspect(1)\n",
    "ax.title = \"Design Shape\"\n",
    "rplot = 110 # Region for plot\n",
    "limits!(ax, 0, 22δ, 0, -4δ)\n",
    "save(\"shape.png\", fig)"
   ]
  },
  {
   "cell_type": "code",
   "execution_count": null,
   "metadata": {},
   "outputs": [],
   "source": [
    "\n",
    "x₀=1.1δ #this should the x coordinate of the center of the cantilever.\n",
    "\n",
    "f = x -> VectorValue(0.0,0.0,1/(2π) * exp(-(x[1]-x₀)^2/2/δ^2))\n",
    "\n",
    "\n",
    "# l(v) = 0\n",
    "l(v) = ∫( v⋅f )*dΩ\n",
    "# a(u,v) = ∫( -ε(v) ⊙ (σ_Si∘(ε(u))) + rho_Si*omega*omega*u⊙v )*dΩ\n",
    "\n",
    "a(u,v) = ∫( -(Λf.⋅ε(v)) ⊙ (σ_Si∘(Λf.⋅ε(u))) + rho_Si*omega*omega*u⊙v )*dΩ\n",
    "println(\"assemble 2\")\n",
    "op = AffineFEOperator(a,l,U,V0)\n",
    "\n",
    "println(\"solving 2\")\n",
    "#solve\n",
    "solver = LinearFESolver()\n",
    "uh = solve(solver, op)\n",
    "\n",
    "println(\"writing solution 1\")\n",
    "writevtk(Ω,\"20230922_pureSi_shift_no_PML\",cellfields=[\"uhR\"=>real(uh), \"rho\"=>rho_Si])\n",
    "\n",
    "println(\"complete.\")"
   ]
  },
  {
   "cell_type": "code",
   "execution_count": null,
   "metadata": {},
   "outputs": [],
   "source": [
    "g = zeros(Float64, 11)\n",
    "\n",
    "for c in 1:1:11\n",
    "    g[c] = real(uh(VectorValue(10δ,-2δ,(c-1)*δ/10)))[3]\n",
    "end\n",
    "\n",
    "p = plot((0:1:10)*δ/10, g, label=\"With PML\", xlims=(0,10*δ/10), ylims=(-4e-24,4e-24),\n",
    "         xlabel=\"z/m\", ylabel=\"real(uz)\", framestyle=:box,seriestype=:line, grid=true,xticks=0:1e-6:5e-6,yticks=-4e-24:2e-24:4e-24)\n",
    "\n",
    "# Add vertical lines at x = 2e-6 and 18e-6\n",
    "vline!(p, [1e-6, 3e-6], color=:red, linestyle=:dash,label=\"\")\n",
    "\n",
    "# Display the updated plot\n",
    "display(p)"
   ]
  },
  {
   "cell_type": "code",
   "execution_count": null,
   "metadata": {},
   "outputs": [],
   "source": [
    "g = zeros(Float64, 41)\n",
    "\n",
    "for c in 1:1:41\n",
    "    g[c] = real(uh(VectorValue(10δ,-(c-1)*δ/10,0.5δ)))[3]\n",
    "end\n",
    "\n",
    "# p = plot((0:1:40)*δ/10, g, label=\"With PML\", xlims=(0,40*δ/10), ylims=(-4e-24,4e-24),\n",
    "#          xlabel=\"y/m\", ylabel=\"real(uz)\", framestyle=:box,seriestype=:line, grid=true,xticks=0:1e-6:5e-6,yticks=-4e-24:2e-24:4e-24)\n",
    "p = plot((0:1:40)*δ/10, g, label=\"With PML\", xlims=(0,40*δ/10),ylims=(0,2e-24),\n",
    "         xlabel=\"y/m\", ylabel=\"real(uz)\", framestyle=:box,seriestype=:line, grid=true,xticks=0:1e-6:4e-6)\n",
    "# Add vertical lines at x = 2e-6 and 18e-6\n",
    "vline!(p, [1e-6, 3e-6], color=:red, linestyle=:dash,label=\"\")\n",
    "\n",
    "# Display the updated plot\n",
    "display(p)"
   ]
  },
  {
   "cell_type": "code",
   "execution_count": null,
   "metadata": {},
   "outputs": [],
   "source": [
    "\n",
    "\n",
    "g = zeros(Float64, 221)\n",
    "\n",
    "for c in 1:1:221\n",
    "    g[c] = abs(real(uh(VectorValue((c-1)*δ/10,-2δ,0.5δ)))[3])\n",
    "end\n",
    "\n",
    "# p = plot((0:1:200)*δ/10, g, label=\"With PML\", xlims=(0,200*δ/10), ylims=(-4e-24,4e-24),\n",
    "#          xlabel=\"x/m\", ylabel=\"real(uz)\", framestyle=:box,seriestype=:line, grid=true,xticks=0:5e-6:20e-6,yticks=-4e-24:2e-24:4e-24)\n",
    "p = plot((0:1:220)*δ/10, g, label=\"With PML\", xlims=(0,220*δ/10), \n",
    "         xlabel=\"x/m\", ylabel=\"real(uz)\", framestyle=:box,seriestype=:line, grid=true,xticks=0:2e-6:22e-6,yticks=0:0.4e-24:2e-24)\n",
    "# Add vertical lines at x = 2e-6 and 18e-6\n",
    "vline!(p, [2e-6, 20e-6], color=:red, linestyle=:dash,label=\"\")\n",
    "\n",
    "# Display the updated plot\n",
    "display(p)\n"
   ]
  },
  {
   "cell_type": "code",
   "execution_count": null,
   "metadata": {},
   "outputs": [],
   "source": [
    "# Scalar value used for inverse design\n",
    "\n",
    "result_freq = Vector{Float64}()\n",
    "result_A = Vector{Float64}()\n",
    "result_B = Vector{Float64}()\n",
    "\n",
    "A = BoundaryTriangulation(model, tags=\"PortA\") # Boundary triangulation assumes neumann boundary\n",
    "dA = CellQuadrature(A, degree)\n",
    "int1 = sum(integrate(uh, dA ))\n",
    "int2 = sum(integrate(1,dA))\n",
    "response_A = int1/int2 /0.001 # \n",
    "resZ_A = abs(response_A[3])\n",
    "append!(result_A, resZ_A)\n",
    "\n",
    "\n",
    "\n",
    "B = BoundaryTriangulation(model, tags=\"PortB\")\n",
    "dB = CellQuadrature(B, degree)\n",
    "int1 = sum(integrate(uh, dB ))\n",
    "int2 = sum(integrate(1,dB))\n",
    "response_B = int1/int2 /0.001\n",
    "resZ_B = abs(response_B[3])\n",
    "append!(result_B, resZ_B)\n",
    "\n",
    "\n",
    "println(\"$freq, $resZ_A, $resZ_B\")"
   ]
  }
 ],
 "metadata": {
  "kernelspec": {
   "display_name": "Julia 1.8.5",
   "language": "julia",
   "name": "julia-1.8"
  },
  "language_info": {
   "file_extension": ".jl",
   "mimetype": "application/julia",
   "name": "julia",
   "version": "1.8.5"
  }
 },
 "nbformat": 4,
 "nbformat_minor": 2
}
